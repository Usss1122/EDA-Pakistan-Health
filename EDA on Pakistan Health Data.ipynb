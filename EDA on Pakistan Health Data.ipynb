{
 "cells": [
  {
   "cell_type": "markdown",
   "metadata": {},
   "source": [
    "Exploratory Data Analysis (EDA) on Pakistan Health Data"
   ]
  },
  {
   "cell_type": "code",
   "execution_count": 2,
   "metadata": {},
   "outputs": [
    {
     "name": "stderr",
     "output_type": "stream",
     "text": [
      "C:\\Users\\Shekhani Laptops\\AppData\\Local\\Temp\\ipykernel_12940\\1077005043.py:3: DeprecationWarning: \n",
      "Pyarrow will become a required dependency of pandas in the next major release of pandas (pandas 3.0),\n",
      "(to allow more performant data types, such as the Arrow string type, and better interoperability with other libraries)\n",
      "but was not found to be installed on your system.\n",
      "If this would cause problems for you,\n",
      "please provide us feedback at https://github.com/pandas-dev/pandas/issues/54466\n",
      "        \n",
      "  import pandas as pd\n"
     ]
    }
   ],
   "source": [
    "# importing the necessary libraries\n",
    "\n",
    "import pandas as pd\n",
    "import numpy as np\n",
    "import matplotlib.pyplot as plt\n",
    "import seaborn as sns"
   ]
  },
  {
   "cell_type": "code",
   "execution_count": 3,
   "metadata": {},
   "outputs": [
    {
     "data": {
      "text/html": [
       "<div>\n",
       "<style scoped>\n",
       "    .dataframe tbody tr th:only-of-type {\n",
       "        vertical-align: middle;\n",
       "    }\n",
       "\n",
       "    .dataframe tbody tr th {\n",
       "        vertical-align: top;\n",
       "    }\n",
       "\n",
       "    .dataframe thead th {\n",
       "        text-align: right;\n",
       "    }\n",
       "</style>\n",
       "<table border=\"1\" class=\"dataframe\">\n",
       "  <thead>\n",
       "    <tr style=\"text-align: right;\">\n",
       "      <th></th>\n",
       "      <th>Hospital Name</th>\n",
       "      <th>Patient Name</th>\n",
       "      <th>Age</th>\n",
       "      <th>Gender</th>\n",
       "      <th>Date of Admission</th>\n",
       "      <th>Date of Discharge</th>\n",
       "      <th>Disease</th>\n",
       "      <th>Treatment Cost</th>\n",
       "      <th>Insurance</th>\n",
       "      <th>Blood Group</th>\n",
       "      <th>Height (cm)</th>\n",
       "      <th>Weight (kg)</th>\n",
       "      <th>Contact Number</th>\n",
       "      <th>City</th>\n",
       "      <th>Province</th>\n",
       "    </tr>\n",
       "  </thead>\n",
       "  <tbody>\n",
       "    <tr>\n",
       "      <th>0</th>\n",
       "      <td>Indus Hospital</td>\n",
       "      <td>Noman Chaudhry</td>\n",
       "      <td>58</td>\n",
       "      <td>Female</td>\n",
       "      <td>2023-05-22</td>\n",
       "      <td>2023-03-25</td>\n",
       "      <td>Malaria</td>\n",
       "      <td>24570</td>\n",
       "      <td>Yes</td>\n",
       "      <td>O+</td>\n",
       "      <td>151</td>\n",
       "      <td>117</td>\n",
       "      <td>37977648810</td>\n",
       "      <td>Peshawar</td>\n",
       "      <td>Khyber Pakhtunkhwa</td>\n",
       "    </tr>\n",
       "    <tr>\n",
       "      <th>1</th>\n",
       "      <td>Civil Hospital Karachi</td>\n",
       "      <td>Mahnoor Qureshi</td>\n",
       "      <td>96</td>\n",
       "      <td>Female</td>\n",
       "      <td>2023-01-18</td>\n",
       "      <td>2023-04-08</td>\n",
       "      <td>COVID-19</td>\n",
       "      <td>220466</td>\n",
       "      <td>No</td>\n",
       "      <td>O+</td>\n",
       "      <td>196</td>\n",
       "      <td>117</td>\n",
       "      <td>36007550511</td>\n",
       "      <td>Rawalpindi</td>\n",
       "      <td>Punjab</td>\n",
       "    </tr>\n",
       "    <tr>\n",
       "      <th>2</th>\n",
       "      <td>Shaikh Zayed Hospital</td>\n",
       "      <td>Hira Ansari</td>\n",
       "      <td>64</td>\n",
       "      <td>Male</td>\n",
       "      <td>2023-01-05</td>\n",
       "      <td>2023-03-25</td>\n",
       "      <td>Diabetes</td>\n",
       "      <td>280817</td>\n",
       "      <td>Yes</td>\n",
       "      <td>A-</td>\n",
       "      <td>185</td>\n",
       "      <td>111</td>\n",
       "      <td>31638461648</td>\n",
       "      <td>Karachi</td>\n",
       "      <td>Khyber Pakhtunkhwa</td>\n",
       "    </tr>\n",
       "    <tr>\n",
       "      <th>3</th>\n",
       "      <td>Indus Hospital</td>\n",
       "      <td>Daniyal Ansari</td>\n",
       "      <td>47</td>\n",
       "      <td>Female</td>\n",
       "      <td>2023-11-28</td>\n",
       "      <td>2023-09-27</td>\n",
       "      <td>Cancer</td>\n",
       "      <td>219838</td>\n",
       "      <td>Yes</td>\n",
       "      <td>B+</td>\n",
       "      <td>197</td>\n",
       "      <td>96</td>\n",
       "      <td>31044609168</td>\n",
       "      <td>Rawalpindi</td>\n",
       "      <td>Sindh</td>\n",
       "    </tr>\n",
       "    <tr>\n",
       "      <th>4</th>\n",
       "      <td>Civil Hospital Karachi</td>\n",
       "      <td>Ali Butt</td>\n",
       "      <td>80</td>\n",
       "      <td>Male</td>\n",
       "      <td>2023-07-06</td>\n",
       "      <td>2023-10-26</td>\n",
       "      <td>Cancer</td>\n",
       "      <td>318043</td>\n",
       "      <td>Yes</td>\n",
       "      <td>A+</td>\n",
       "      <td>174</td>\n",
       "      <td>112</td>\n",
       "      <td>32720530918</td>\n",
       "      <td>Karachi</td>\n",
       "      <td>Balochistan</td>\n",
       "    </tr>\n",
       "    <tr>\n",
       "      <th>...</th>\n",
       "      <td>...</td>\n",
       "      <td>...</td>\n",
       "      <td>...</td>\n",
       "      <td>...</td>\n",
       "      <td>...</td>\n",
       "      <td>...</td>\n",
       "      <td>...</td>\n",
       "      <td>...</td>\n",
       "      <td>...</td>\n",
       "      <td>...</td>\n",
       "      <td>...</td>\n",
       "      <td>...</td>\n",
       "      <td>...</td>\n",
       "      <td>...</td>\n",
       "      <td>...</td>\n",
       "    </tr>\n",
       "    <tr>\n",
       "      <th>1995</th>\n",
       "      <td>Civil Hospital Karachi</td>\n",
       "      <td>Sara Farooqi</td>\n",
       "      <td>96</td>\n",
       "      <td>Female</td>\n",
       "      <td>2023-12-16</td>\n",
       "      <td>2023-10-22</td>\n",
       "      <td>Diabetes</td>\n",
       "      <td>336872</td>\n",
       "      <td>No</td>\n",
       "      <td>B+</td>\n",
       "      <td>181</td>\n",
       "      <td>78</td>\n",
       "      <td>35202879767</td>\n",
       "      <td>Rawalpindi</td>\n",
       "      <td>Sindh</td>\n",
       "    </tr>\n",
       "    <tr>\n",
       "      <th>1996</th>\n",
       "      <td>Services Hospital</td>\n",
       "      <td>Usman Khan</td>\n",
       "      <td>28</td>\n",
       "      <td>Female</td>\n",
       "      <td>2023-05-07</td>\n",
       "      <td>2023-07-25</td>\n",
       "      <td>Diabetes</td>\n",
       "      <td>495301</td>\n",
       "      <td>Yes</td>\n",
       "      <td>O+</td>\n",
       "      <td>177</td>\n",
       "      <td>80</td>\n",
       "      <td>31581509478</td>\n",
       "      <td>Multan</td>\n",
       "      <td>Punjab</td>\n",
       "    </tr>\n",
       "    <tr>\n",
       "      <th>1997</th>\n",
       "      <td>Nishtar Hospital</td>\n",
       "      <td>Amina Qureshi</td>\n",
       "      <td>98</td>\n",
       "      <td>Female</td>\n",
       "      <td>2023-09-11</td>\n",
       "      <td>2023-06-03</td>\n",
       "      <td>COVID-19</td>\n",
       "      <td>136213</td>\n",
       "      <td>Yes</td>\n",
       "      <td>B+</td>\n",
       "      <td>163</td>\n",
       "      <td>88</td>\n",
       "      <td>37870570657</td>\n",
       "      <td>Rawalpindi</td>\n",
       "      <td>Punjab</td>\n",
       "    </tr>\n",
       "    <tr>\n",
       "      <th>1998</th>\n",
       "      <td>Pakistan Institute of Medical Sciences</td>\n",
       "      <td>Hassan Farooqi</td>\n",
       "      <td>60</td>\n",
       "      <td>Male</td>\n",
       "      <td>2023-12-27</td>\n",
       "      <td>2023-09-11</td>\n",
       "      <td>Tuberculosis</td>\n",
       "      <td>338865</td>\n",
       "      <td>Yes</td>\n",
       "      <td>O+</td>\n",
       "      <td>151</td>\n",
       "      <td>116</td>\n",
       "      <td>38390114480</td>\n",
       "      <td>Quetta</td>\n",
       "      <td>Khyber Pakhtunkhwa</td>\n",
       "    </tr>\n",
       "    <tr>\n",
       "      <th>1999</th>\n",
       "      <td>Aga Khan University Hospital</td>\n",
       "      <td>Daniyal Siddiqui</td>\n",
       "      <td>46</td>\n",
       "      <td>Female</td>\n",
       "      <td>2023-10-15</td>\n",
       "      <td>2023-06-19</td>\n",
       "      <td>COVID-19</td>\n",
       "      <td>135737</td>\n",
       "      <td>Yes</td>\n",
       "      <td>O-</td>\n",
       "      <td>200</td>\n",
       "      <td>86</td>\n",
       "      <td>37952117014</td>\n",
       "      <td>Quetta</td>\n",
       "      <td>Punjab</td>\n",
       "    </tr>\n",
       "  </tbody>\n",
       "</table>\n",
       "<p>2000 rows × 15 columns</p>\n",
       "</div>"
      ],
      "text/plain": [
       "                               Hospital Name      Patient Name  Age  Gender  \\\n",
       "0                             Indus Hospital    Noman Chaudhry   58  Female   \n",
       "1                     Civil Hospital Karachi   Mahnoor Qureshi   96  Female   \n",
       "2                      Shaikh Zayed Hospital       Hira Ansari   64    Male   \n",
       "3                             Indus Hospital    Daniyal Ansari   47  Female   \n",
       "4                     Civil Hospital Karachi          Ali Butt   80    Male   \n",
       "...                                      ...               ...  ...     ...   \n",
       "1995                  Civil Hospital Karachi      Sara Farooqi   96  Female   \n",
       "1996                       Services Hospital        Usman Khan   28  Female   \n",
       "1997                        Nishtar Hospital     Amina Qureshi   98  Female   \n",
       "1998  Pakistan Institute of Medical Sciences    Hassan Farooqi   60    Male   \n",
       "1999            Aga Khan University Hospital  Daniyal Siddiqui   46  Female   \n",
       "\n",
       "     Date of Admission Date of Discharge       Disease  Treatment Cost  \\\n",
       "0           2023-05-22        2023-03-25       Malaria           24570   \n",
       "1           2023-01-18        2023-04-08      COVID-19          220466   \n",
       "2           2023-01-05        2023-03-25      Diabetes          280817   \n",
       "3           2023-11-28        2023-09-27        Cancer          219838   \n",
       "4           2023-07-06        2023-10-26        Cancer          318043   \n",
       "...                ...               ...           ...             ...   \n",
       "1995        2023-12-16        2023-10-22      Diabetes          336872   \n",
       "1996        2023-05-07        2023-07-25      Diabetes          495301   \n",
       "1997        2023-09-11        2023-06-03      COVID-19          136213   \n",
       "1998        2023-12-27        2023-09-11  Tuberculosis          338865   \n",
       "1999        2023-10-15        2023-06-19      COVID-19          135737   \n",
       "\n",
       "     Insurance Blood Group  Height (cm)  Weight (kg)  Contact Number  \\\n",
       "0          Yes          O+          151          117     37977648810   \n",
       "1           No          O+          196          117     36007550511   \n",
       "2          Yes          A-          185          111     31638461648   \n",
       "3          Yes          B+          197           96     31044609168   \n",
       "4          Yes          A+          174          112     32720530918   \n",
       "...        ...         ...          ...          ...             ...   \n",
       "1995        No          B+          181           78     35202879767   \n",
       "1996       Yes          O+          177           80     31581509478   \n",
       "1997       Yes          B+          163           88     37870570657   \n",
       "1998       Yes          O+          151          116     38390114480   \n",
       "1999       Yes          O-          200           86     37952117014   \n",
       "\n",
       "            City            Province  \n",
       "0       Peshawar  Khyber Pakhtunkhwa  \n",
       "1     Rawalpindi              Punjab  \n",
       "2        Karachi  Khyber Pakhtunkhwa  \n",
       "3     Rawalpindi               Sindh  \n",
       "4        Karachi         Balochistan  \n",
       "...          ...                 ...  \n",
       "1995  Rawalpindi               Sindh  \n",
       "1996      Multan              Punjab  \n",
       "1997  Rawalpindi              Punjab  \n",
       "1998      Quetta  Khyber Pakhtunkhwa  \n",
       "1999      Quetta              Punjab  \n",
       "\n",
       "[2000 rows x 15 columns]"
      ]
     },
     "execution_count": 3,
     "metadata": {},
     "output_type": "execute_result"
    }
   ],
   "source": [
    "#Loading Dataset\n",
    "df = pd.read_csv(\"Pakistan_Health_Data.csv\")\n",
    "df"
   ]
  },
  {
   "cell_type": "markdown",
   "metadata": {},
   "source": [
    "Some Basic Functions"
   ]
  },
  {
   "cell_type": "code",
   "execution_count": 4,
   "metadata": {},
   "outputs": [
    {
     "data": {
      "text/html": [
       "<div>\n",
       "<style scoped>\n",
       "    .dataframe tbody tr th:only-of-type {\n",
       "        vertical-align: middle;\n",
       "    }\n",
       "\n",
       "    .dataframe tbody tr th {\n",
       "        vertical-align: top;\n",
       "    }\n",
       "\n",
       "    .dataframe thead th {\n",
       "        text-align: right;\n",
       "    }\n",
       "</style>\n",
       "<table border=\"1\" class=\"dataframe\">\n",
       "  <thead>\n",
       "    <tr style=\"text-align: right;\">\n",
       "      <th></th>\n",
       "      <th>Hospital Name</th>\n",
       "      <th>Patient Name</th>\n",
       "      <th>Age</th>\n",
       "      <th>Gender</th>\n",
       "      <th>Date of Admission</th>\n",
       "      <th>Date of Discharge</th>\n",
       "      <th>Disease</th>\n",
       "      <th>Treatment Cost</th>\n",
       "      <th>Insurance</th>\n",
       "      <th>Blood Group</th>\n",
       "      <th>Height (cm)</th>\n",
       "      <th>Weight (kg)</th>\n",
       "      <th>Contact Number</th>\n",
       "      <th>City</th>\n",
       "      <th>Province</th>\n",
       "    </tr>\n",
       "  </thead>\n",
       "  <tbody>\n",
       "    <tr>\n",
       "      <th>0</th>\n",
       "      <td>Indus Hospital</td>\n",
       "      <td>Noman Chaudhry</td>\n",
       "      <td>58</td>\n",
       "      <td>Female</td>\n",
       "      <td>2023-05-22</td>\n",
       "      <td>2023-03-25</td>\n",
       "      <td>Malaria</td>\n",
       "      <td>24570</td>\n",
       "      <td>Yes</td>\n",
       "      <td>O+</td>\n",
       "      <td>151</td>\n",
       "      <td>117</td>\n",
       "      <td>37977648810</td>\n",
       "      <td>Peshawar</td>\n",
       "      <td>Khyber Pakhtunkhwa</td>\n",
       "    </tr>\n",
       "    <tr>\n",
       "      <th>1</th>\n",
       "      <td>Civil Hospital Karachi</td>\n",
       "      <td>Mahnoor Qureshi</td>\n",
       "      <td>96</td>\n",
       "      <td>Female</td>\n",
       "      <td>2023-01-18</td>\n",
       "      <td>2023-04-08</td>\n",
       "      <td>COVID-19</td>\n",
       "      <td>220466</td>\n",
       "      <td>No</td>\n",
       "      <td>O+</td>\n",
       "      <td>196</td>\n",
       "      <td>117</td>\n",
       "      <td>36007550511</td>\n",
       "      <td>Rawalpindi</td>\n",
       "      <td>Punjab</td>\n",
       "    </tr>\n",
       "    <tr>\n",
       "      <th>2</th>\n",
       "      <td>Shaikh Zayed Hospital</td>\n",
       "      <td>Hira Ansari</td>\n",
       "      <td>64</td>\n",
       "      <td>Male</td>\n",
       "      <td>2023-01-05</td>\n",
       "      <td>2023-03-25</td>\n",
       "      <td>Diabetes</td>\n",
       "      <td>280817</td>\n",
       "      <td>Yes</td>\n",
       "      <td>A-</td>\n",
       "      <td>185</td>\n",
       "      <td>111</td>\n",
       "      <td>31638461648</td>\n",
       "      <td>Karachi</td>\n",
       "      <td>Khyber Pakhtunkhwa</td>\n",
       "    </tr>\n",
       "    <tr>\n",
       "      <th>3</th>\n",
       "      <td>Indus Hospital</td>\n",
       "      <td>Daniyal Ansari</td>\n",
       "      <td>47</td>\n",
       "      <td>Female</td>\n",
       "      <td>2023-11-28</td>\n",
       "      <td>2023-09-27</td>\n",
       "      <td>Cancer</td>\n",
       "      <td>219838</td>\n",
       "      <td>Yes</td>\n",
       "      <td>B+</td>\n",
       "      <td>197</td>\n",
       "      <td>96</td>\n",
       "      <td>31044609168</td>\n",
       "      <td>Rawalpindi</td>\n",
       "      <td>Sindh</td>\n",
       "    </tr>\n",
       "    <tr>\n",
       "      <th>4</th>\n",
       "      <td>Civil Hospital Karachi</td>\n",
       "      <td>Ali Butt</td>\n",
       "      <td>80</td>\n",
       "      <td>Male</td>\n",
       "      <td>2023-07-06</td>\n",
       "      <td>2023-10-26</td>\n",
       "      <td>Cancer</td>\n",
       "      <td>318043</td>\n",
       "      <td>Yes</td>\n",
       "      <td>A+</td>\n",
       "      <td>174</td>\n",
       "      <td>112</td>\n",
       "      <td>32720530918</td>\n",
       "      <td>Karachi</td>\n",
       "      <td>Balochistan</td>\n",
       "    </tr>\n",
       "  </tbody>\n",
       "</table>\n",
       "</div>"
      ],
      "text/plain": [
       "            Hospital Name     Patient Name  Age  Gender Date of Admission  \\\n",
       "0          Indus Hospital   Noman Chaudhry   58  Female        2023-05-22   \n",
       "1  Civil Hospital Karachi  Mahnoor Qureshi   96  Female        2023-01-18   \n",
       "2   Shaikh Zayed Hospital      Hira Ansari   64    Male        2023-01-05   \n",
       "3          Indus Hospital   Daniyal Ansari   47  Female        2023-11-28   \n",
       "4  Civil Hospital Karachi         Ali Butt   80    Male        2023-07-06   \n",
       "\n",
       "  Date of Discharge   Disease  Treatment Cost Insurance Blood Group  \\\n",
       "0        2023-03-25   Malaria           24570       Yes          O+   \n",
       "1        2023-04-08  COVID-19          220466        No          O+   \n",
       "2        2023-03-25  Diabetes          280817       Yes          A-   \n",
       "3        2023-09-27    Cancer          219838       Yes          B+   \n",
       "4        2023-10-26    Cancer          318043       Yes          A+   \n",
       "\n",
       "   Height (cm)  Weight (kg)  Contact Number        City            Province  \n",
       "0          151          117     37977648810    Peshawar  Khyber Pakhtunkhwa  \n",
       "1          196          117     36007550511  Rawalpindi              Punjab  \n",
       "2          185          111     31638461648     Karachi  Khyber Pakhtunkhwa  \n",
       "3          197           96     31044609168  Rawalpindi               Sindh  \n",
       "4          174          112     32720530918     Karachi         Balochistan  "
      ]
     },
     "execution_count": 4,
     "metadata": {},
     "output_type": "execute_result"
    }
   ],
   "source": [
    "# Displaying the first five rows\n",
    "df.head()"
   ]
  },
  {
   "cell_type": "code",
   "execution_count": 19,
   "metadata": {},
   "outputs": [
    {
     "data": {
      "text/html": [
       "<div>\n",
       "<style scoped>\n",
       "    .dataframe tbody tr th:only-of-type {\n",
       "        vertical-align: middle;\n",
       "    }\n",
       "\n",
       "    .dataframe tbody tr th {\n",
       "        vertical-align: top;\n",
       "    }\n",
       "\n",
       "    .dataframe thead th {\n",
       "        text-align: right;\n",
       "    }\n",
       "</style>\n",
       "<table border=\"1\" class=\"dataframe\">\n",
       "  <thead>\n",
       "    <tr style=\"text-align: right;\">\n",
       "      <th></th>\n",
       "      <th>Hospital Name</th>\n",
       "      <th>Patient Name</th>\n",
       "      <th>Age</th>\n",
       "      <th>Gender</th>\n",
       "      <th>Date of Admission</th>\n",
       "      <th>Date of Discharge</th>\n",
       "      <th>Disease</th>\n",
       "      <th>Treatment Cost</th>\n",
       "      <th>Insurance</th>\n",
       "      <th>Blood Group</th>\n",
       "      <th>Height (cm)</th>\n",
       "      <th>Weight (kg)</th>\n",
       "      <th>Contact Number</th>\n",
       "      <th>City</th>\n",
       "      <th>Province</th>\n",
       "    </tr>\n",
       "  </thead>\n",
       "  <tbody>\n",
       "    <tr>\n",
       "      <th>1995</th>\n",
       "      <td>Civil Hospital Karachi</td>\n",
       "      <td>Sara Farooqi</td>\n",
       "      <td>96</td>\n",
       "      <td>Female</td>\n",
       "      <td>2023-12-16</td>\n",
       "      <td>2023-10-22</td>\n",
       "      <td>Diabetes</td>\n",
       "      <td>336872.0</td>\n",
       "      <td>No</td>\n",
       "      <td>B+</td>\n",
       "      <td>181</td>\n",
       "      <td>78</td>\n",
       "      <td>35202879767</td>\n",
       "      <td>Rawalpindi</td>\n",
       "      <td>Sindh</td>\n",
       "    </tr>\n",
       "    <tr>\n",
       "      <th>1996</th>\n",
       "      <td>Services Hospital</td>\n",
       "      <td>Usman Khan</td>\n",
       "      <td>28</td>\n",
       "      <td>Female</td>\n",
       "      <td>2023-05-07</td>\n",
       "      <td>2023-07-25</td>\n",
       "      <td>Diabetes</td>\n",
       "      <td>495301.0</td>\n",
       "      <td>Yes</td>\n",
       "      <td>O+</td>\n",
       "      <td>177</td>\n",
       "      <td>80</td>\n",
       "      <td>31581509478</td>\n",
       "      <td>Multan</td>\n",
       "      <td>Punjab</td>\n",
       "    </tr>\n",
       "    <tr>\n",
       "      <th>1997</th>\n",
       "      <td>Nishtar Hospital</td>\n",
       "      <td>Amina Qureshi</td>\n",
       "      <td>98</td>\n",
       "      <td>Female</td>\n",
       "      <td>2023-09-11</td>\n",
       "      <td>2023-06-03</td>\n",
       "      <td>COVID-19</td>\n",
       "      <td>136213.0</td>\n",
       "      <td>Yes</td>\n",
       "      <td>B+</td>\n",
       "      <td>163</td>\n",
       "      <td>88</td>\n",
       "      <td>37870570657</td>\n",
       "      <td>Rawalpindi</td>\n",
       "      <td>Punjab</td>\n",
       "    </tr>\n",
       "    <tr>\n",
       "      <th>1998</th>\n",
       "      <td>Pakistan Institute of Medical Sciences</td>\n",
       "      <td>Hassan Farooqi</td>\n",
       "      <td>60</td>\n",
       "      <td>Male</td>\n",
       "      <td>2023-12-27</td>\n",
       "      <td>2023-09-11</td>\n",
       "      <td>Tuberculosis</td>\n",
       "      <td>338865.0</td>\n",
       "      <td>Yes</td>\n",
       "      <td>O+</td>\n",
       "      <td>151</td>\n",
       "      <td>116</td>\n",
       "      <td>38390114480</td>\n",
       "      <td>Quetta</td>\n",
       "      <td>Khyber Pakhtunkhwa</td>\n",
       "    </tr>\n",
       "    <tr>\n",
       "      <th>1999</th>\n",
       "      <td>Aga Khan University Hospital</td>\n",
       "      <td>Daniyal Siddiqui</td>\n",
       "      <td>46</td>\n",
       "      <td>Female</td>\n",
       "      <td>2023-10-15</td>\n",
       "      <td>2023-06-19</td>\n",
       "      <td>COVID-19</td>\n",
       "      <td>135737.0</td>\n",
       "      <td>Yes</td>\n",
       "      <td>O-</td>\n",
       "      <td>200</td>\n",
       "      <td>86</td>\n",
       "      <td>37952117014</td>\n",
       "      <td>Quetta</td>\n",
       "      <td>Punjab</td>\n",
       "    </tr>\n",
       "  </tbody>\n",
       "</table>\n",
       "</div>"
      ],
      "text/plain": [
       "                               Hospital Name      Patient Name  Age  Gender  \\\n",
       "1995                  Civil Hospital Karachi      Sara Farooqi   96  Female   \n",
       "1996                       Services Hospital        Usman Khan   28  Female   \n",
       "1997                        Nishtar Hospital     Amina Qureshi   98  Female   \n",
       "1998  Pakistan Institute of Medical Sciences    Hassan Farooqi   60    Male   \n",
       "1999            Aga Khan University Hospital  Daniyal Siddiqui   46  Female   \n",
       "\n",
       "     Date of Admission Date of Discharge       Disease  Treatment Cost  \\\n",
       "1995        2023-12-16        2023-10-22      Diabetes        336872.0   \n",
       "1996        2023-05-07        2023-07-25      Diabetes        495301.0   \n",
       "1997        2023-09-11        2023-06-03      COVID-19        136213.0   \n",
       "1998        2023-12-27        2023-09-11  Tuberculosis        338865.0   \n",
       "1999        2023-10-15        2023-06-19      COVID-19        135737.0   \n",
       "\n",
       "     Insurance Blood Group  Height (cm)  Weight (kg)  Contact Number  \\\n",
       "1995        No          B+          181           78     35202879767   \n",
       "1996       Yes          O+          177           80     31581509478   \n",
       "1997       Yes          B+          163           88     37870570657   \n",
       "1998       Yes          O+          151          116     38390114480   \n",
       "1999       Yes          O-          200           86     37952117014   \n",
       "\n",
       "            City            Province  \n",
       "1995  Rawalpindi               Sindh  \n",
       "1996      Multan              Punjab  \n",
       "1997  Rawalpindi              Punjab  \n",
       "1998      Quetta  Khyber Pakhtunkhwa  \n",
       "1999      Quetta              Punjab  "
      ]
     },
     "execution_count": 19,
     "metadata": {},
     "output_type": "execute_result"
    }
   ],
   "source": [
    "#Displaying Last five rows\n",
    "df.tail()"
   ]
  },
  {
   "cell_type": "code",
   "execution_count": null,
   "metadata": {},
   "outputs": [
    {
     "name": "stdout",
     "output_type": "stream",
     "text": [
      "<class 'pandas.core.frame.DataFrame'>\n",
      "RangeIndex: 2000 entries, 0 to 1999\n",
      "Data columns (total 15 columns):\n",
      " #   Column             Non-Null Count  Dtype         \n",
      "---  ------             --------------  -----         \n",
      " 0   Hospital Name      2000 non-null   object        \n",
      " 1   Patient Name       2000 non-null   object        \n",
      " 2   Age                2000 non-null   int64         \n",
      " 3   Gender             2000 non-null   object        \n",
      " 4   Date of Admission  2000 non-null   datetime64[ns]\n",
      " 5   Date of Discharge  2000 non-null   datetime64[ns]\n",
      " 6   Disease            2000 non-null   object        \n",
      " 7   Treatment Cost     2000 non-null   float64       \n",
      " 8   Insurance          2000 non-null   object        \n",
      " 9   Blood Group        2000 non-null   object        \n",
      " 10  Height (cm)        2000 non-null   int64         \n",
      " 11  Weight (kg)        2000 non-null   int64         \n",
      " 12  Contact Number     2000 non-null   int64         \n",
      " 13  City               2000 non-null   object        \n",
      " 14  Province           2000 non-null   object        \n",
      "dtypes: datetime64[ns](2), float64(1), int64(4), object(8)\n",
      "memory usage: 234.5+ KB\n"
     ]
    }
   ],
   "source": [
    "#Displaying all the information of dataset structure\n",
    "df.info()"
   ]
  },
  {
   "cell_type": "code",
   "execution_count": 21,
   "metadata": {},
   "outputs": [
    {
     "data": {
      "text/html": [
       "<div>\n",
       "<style scoped>\n",
       "    .dataframe tbody tr th:only-of-type {\n",
       "        vertical-align: middle;\n",
       "    }\n",
       "\n",
       "    .dataframe tbody tr th {\n",
       "        vertical-align: top;\n",
       "    }\n",
       "\n",
       "    .dataframe thead th {\n",
       "        text-align: right;\n",
       "    }\n",
       "</style>\n",
       "<table border=\"1\" class=\"dataframe\">\n",
       "  <thead>\n",
       "    <tr style=\"text-align: right;\">\n",
       "      <th></th>\n",
       "      <th>Age</th>\n",
       "      <th>Date of Admission</th>\n",
       "      <th>Date of Discharge</th>\n",
       "      <th>Treatment Cost</th>\n",
       "      <th>Height (cm)</th>\n",
       "      <th>Weight (kg)</th>\n",
       "      <th>Contact Number</th>\n",
       "    </tr>\n",
       "  </thead>\n",
       "  <tbody>\n",
       "    <tr>\n",
       "      <th>count</th>\n",
       "      <td>2000.000000</td>\n",
       "      <td>2000</td>\n",
       "      <td>2000</td>\n",
       "      <td>2000.00000</td>\n",
       "      <td>2000.00000</td>\n",
       "      <td>2000.000000</td>\n",
       "      <td>2.000000e+03</td>\n",
       "    </tr>\n",
       "    <tr>\n",
       "      <th>mean</th>\n",
       "      <td>50.567500</td>\n",
       "      <td>2023-06-25 23:00:14.400000</td>\n",
       "      <td>2023-06-26 17:16:48</td>\n",
       "      <td>248132.64150</td>\n",
       "      <td>170.30650</td>\n",
       "      <td>79.729500</td>\n",
       "      <td>3.547818e+10</td>\n",
       "    </tr>\n",
       "    <tr>\n",
       "      <th>min</th>\n",
       "      <td>1.000000</td>\n",
       "      <td>2023-01-01 00:00:00</td>\n",
       "      <td>2023-01-01 00:00:00</td>\n",
       "      <td>5490.00000</td>\n",
       "      <td>140.00000</td>\n",
       "      <td>40.000000</td>\n",
       "      <td>3.100469e+10</td>\n",
       "    </tr>\n",
       "    <tr>\n",
       "      <th>25%</th>\n",
       "      <td>26.000000</td>\n",
       "      <td>2023-03-26 00:00:00</td>\n",
       "      <td>2023-03-28 00:00:00</td>\n",
       "      <td>125021.25000</td>\n",
       "      <td>156.00000</td>\n",
       "      <td>60.000000</td>\n",
       "      <td>3.326739e+10</td>\n",
       "    </tr>\n",
       "    <tr>\n",
       "      <th>50%</th>\n",
       "      <td>50.500000</td>\n",
       "      <td>2023-06-24 00:00:00</td>\n",
       "      <td>2023-06-26 00:00:00</td>\n",
       "      <td>244626.50000</td>\n",
       "      <td>170.00000</td>\n",
       "      <td>79.000000</td>\n",
       "      <td>3.545759e+10</td>\n",
       "    </tr>\n",
       "    <tr>\n",
       "      <th>75%</th>\n",
       "      <td>74.000000</td>\n",
       "      <td>2023-09-22 00:00:00</td>\n",
       "      <td>2023-09-23 00:00:00</td>\n",
       "      <td>366660.50000</td>\n",
       "      <td>185.00000</td>\n",
       "      <td>99.000000</td>\n",
       "      <td>3.775718e+10</td>\n",
       "    </tr>\n",
       "    <tr>\n",
       "      <th>max</th>\n",
       "      <td>100.000000</td>\n",
       "      <td>2023-12-28 00:00:00</td>\n",
       "      <td>2023-12-28 00:00:00</td>\n",
       "      <td>499805.00000</td>\n",
       "      <td>200.00000</td>\n",
       "      <td>120.000000</td>\n",
       "      <td>3.999876e+10</td>\n",
       "    </tr>\n",
       "    <tr>\n",
       "      <th>std</th>\n",
       "      <td>28.741511</td>\n",
       "      <td>NaN</td>\n",
       "      <td>NaN</td>\n",
       "      <td>143060.71777</td>\n",
       "      <td>17.53095</td>\n",
       "      <td>23.240103</td>\n",
       "      <td>2.591425e+09</td>\n",
       "    </tr>\n",
       "  </tbody>\n",
       "</table>\n",
       "</div>"
      ],
      "text/plain": [
       "               Age           Date of Admission    Date of Discharge  \\\n",
       "count  2000.000000                        2000                 2000   \n",
       "mean     50.567500  2023-06-25 23:00:14.400000  2023-06-26 17:16:48   \n",
       "min       1.000000         2023-01-01 00:00:00  2023-01-01 00:00:00   \n",
       "25%      26.000000         2023-03-26 00:00:00  2023-03-28 00:00:00   \n",
       "50%      50.500000         2023-06-24 00:00:00  2023-06-26 00:00:00   \n",
       "75%      74.000000         2023-09-22 00:00:00  2023-09-23 00:00:00   \n",
       "max     100.000000         2023-12-28 00:00:00  2023-12-28 00:00:00   \n",
       "std      28.741511                         NaN                  NaN   \n",
       "\n",
       "       Treatment Cost  Height (cm)  Weight (kg)  Contact Number  \n",
       "count      2000.00000   2000.00000  2000.000000    2.000000e+03  \n",
       "mean     248132.64150    170.30650    79.729500    3.547818e+10  \n",
       "min        5490.00000    140.00000    40.000000    3.100469e+10  \n",
       "25%      125021.25000    156.00000    60.000000    3.326739e+10  \n",
       "50%      244626.50000    170.00000    79.000000    3.545759e+10  \n",
       "75%      366660.50000    185.00000    99.000000    3.775718e+10  \n",
       "max      499805.00000    200.00000   120.000000    3.999876e+10  \n",
       "std      143060.71777     17.53095    23.240103    2.591425e+09  "
      ]
     },
     "execution_count": 21,
     "metadata": {},
     "output_type": "execute_result"
    }
   ],
   "source": [
    "#Displaying summary statistics\n",
    "df.describe()"
   ]
  },
  {
   "cell_type": "code",
   "execution_count": 22,
   "metadata": {},
   "outputs": [
    {
     "data": {
      "text/plain": [
       "(2000, 15)"
      ]
     },
     "execution_count": 22,
     "metadata": {},
     "output_type": "execute_result"
    }
   ],
   "source": [
    "#Displaying dimensions of dataset i.e no of rows and columns\n",
    "df.shape"
   ]
  },
  {
   "cell_type": "code",
   "execution_count": 23,
   "metadata": {},
   "outputs": [
    {
     "data": {
      "text/plain": [
       "Index(['Hospital Name', 'Patient Name', 'Age', 'Gender', 'Date of Admission',\n",
       "       'Date of Discharge', 'Disease', 'Treatment Cost', 'Insurance',\n",
       "       'Blood Group', 'Height (cm)', 'Weight (kg)', 'Contact Number', 'City',\n",
       "       'Province'],\n",
       "      dtype='object')"
      ]
     },
     "execution_count": 23,
     "metadata": {},
     "output_type": "execute_result"
    }
   ],
   "source": [
    "#Displaying all the columns names\n",
    "df.columns"
   ]
  },
  {
   "cell_type": "code",
   "execution_count": 24,
   "metadata": {},
   "outputs": [
    {
     "data": {
      "text/plain": [
       "Index                  132\n",
       "Hospital Name        16000\n",
       "Patient Name         16000\n",
       "Age                  16000\n",
       "Gender               16000\n",
       "Date of Admission    16000\n",
       "Date of Discharge    16000\n",
       "Disease              16000\n",
       "Treatment Cost       16000\n",
       "Insurance            16000\n",
       "Blood Group          16000\n",
       "Height (cm)          16000\n",
       "Weight (kg)          16000\n",
       "Contact Number       16000\n",
       "City                 16000\n",
       "Province             16000\n",
       "dtype: int64"
      ]
     },
     "execution_count": 24,
     "metadata": {},
     "output_type": "execute_result"
    }
   ],
   "source": [
    "#Displaying memory usage of each column\n",
    "df.memory_usage()"
   ]
  },
  {
   "cell_type": "code",
   "execution_count": 5,
   "metadata": {},
   "outputs": [
    {
     "data": {
      "text/plain": [
       "Hospital Name        0\n",
       "Patient Name         0\n",
       "Age                  0\n",
       "Gender               0\n",
       "Date of Admission    0\n",
       "Date of Discharge    0\n",
       "Disease              0\n",
       "Treatment Cost       0\n",
       "Insurance            0\n",
       "Blood Group          0\n",
       "Height (cm)          0\n",
       "Weight (kg)          0\n",
       "Contact Number       0\n",
       "City                 0\n",
       "Province             0\n",
       "dtype: int64"
      ]
     },
     "execution_count": 5,
     "metadata": {},
     "output_type": "execute_result"
    }
   ],
   "source": [
    "# Checking missing values if any\n",
    "df.isnull().sum()"
   ]
  },
  {
   "cell_type": "markdown",
   "metadata": {},
   "source": [
    "As in this dataset there's no missing value so I'm not using the function of fillna() otherwise, incase of missing values we use fillna() which replaces mising values with the mean of that column"
   ]
  },
  {
   "cell_type": "code",
   "execution_count": 6,
   "metadata": {},
   "outputs": [],
   "source": [
    "#Changing Columns Datatype\n",
    "\n",
    "#Changing Date of Admission Column to datatime\n",
    "df['Date of Admission'] = pd.to_datetime(df['Date of Admission'])\n",
    "\n",
    "#Changing Date of Discharge Column to datatime\n",
    "df['Date of Discharge'] = pd.to_datetime(df['Date of Discharge'])"
   ]
  },
  {
   "cell_type": "code",
   "execution_count": 7,
   "metadata": {},
   "outputs": [],
   "source": [
    "# Changing Treatment Cost to float\n",
    "df['Treatment Cost'] = df['Treatment Cost'].astype(float)"
   ]
  },
  {
   "cell_type": "code",
   "execution_count": 8,
   "metadata": {},
   "outputs": [
    {
     "data": {
      "text/plain": [
       "Hospital Name                object\n",
       "Patient Name                 object\n",
       "Age                           int64\n",
       "Gender                       object\n",
       "Date of Admission    datetime64[ns]\n",
       "Date of Discharge    datetime64[ns]\n",
       "Disease                      object\n",
       "Treatment Cost              float64\n",
       "Insurance                    object\n",
       "Blood Group                  object\n",
       "Height (cm)                   int64\n",
       "Weight (kg)                   int64\n",
       "Contact Number                int64\n",
       "City                         object\n",
       "Province                     object\n",
       "dtype: object"
      ]
     },
     "execution_count": 8,
     "metadata": {},
     "output_type": "execute_result"
    }
   ],
   "source": [
    "#Checking the changes made\n",
    "df.dtypes"
   ]
  },
  {
   "cell_type": "code",
   "execution_count": 9,
   "metadata": {},
   "outputs": [
    {
     "data": {
      "text/plain": [
       "0"
      ]
     },
     "execution_count": 9,
     "metadata": {},
     "output_type": "execute_result"
    }
   ],
   "source": [
    "# Checking for duplicates\n",
    "df.duplicated().sum()"
   ]
  },
  {
   "cell_type": "markdown",
   "metadata": {},
   "source": [
    "As in this dataset there's no duplicate value therefore I'm not using drop_duplicates function"
   ]
  },
  {
   "cell_type": "code",
   "execution_count": 25,
   "metadata": {},
   "outputs": [
    {
     "data": {
      "text/plain": [
       "0         Noman Chaudhry\n",
       "1        Mahnoor Qureshi\n",
       "2            Hira Ansari\n",
       "3         Daniyal Ansari\n",
       "4               Ali Butt\n",
       "              ...       \n",
       "1995        Sara Farooqi\n",
       "1996            Zaviyaar\n",
       "1997       Amina Qureshi\n",
       "1998      Hassan Farooqi\n",
       "1999    Daniyal Siddiqui\n",
       "Name: Patient Name, Length: 2000, dtype: object"
      ]
     },
     "execution_count": 25,
     "metadata": {},
     "output_type": "execute_result"
    }
   ],
   "source": [
    "#Replaying the column value \n",
    "df['Patient Name'].replace({'Usman Khan': 'Zaviyaar'})"
   ]
  },
  {
   "cell_type": "code",
   "execution_count": 26,
   "metadata": {},
   "outputs": [
    {
     "data": {
      "text/html": [
       "<div>\n",
       "<style scoped>\n",
       "    .dataframe tbody tr th:only-of-type {\n",
       "        vertical-align: middle;\n",
       "    }\n",
       "\n",
       "    .dataframe tbody tr th {\n",
       "        vertical-align: top;\n",
       "    }\n",
       "\n",
       "    .dataframe thead th {\n",
       "        text-align: right;\n",
       "    }\n",
       "</style>\n",
       "<table border=\"1\" class=\"dataframe\">\n",
       "  <thead>\n",
       "    <tr style=\"text-align: right;\">\n",
       "      <th></th>\n",
       "      <th>Hospital Name</th>\n",
       "      <th>Patient Name</th>\n",
       "      <th>Patient's Age</th>\n",
       "      <th>Gender</th>\n",
       "      <th>Date of Admission</th>\n",
       "      <th>Date of Discharge</th>\n",
       "      <th>Disease</th>\n",
       "      <th>Treatment Cost</th>\n",
       "      <th>Insurance</th>\n",
       "      <th>Blood Group</th>\n",
       "      <th>Height (cm)</th>\n",
       "      <th>Weight (kg)</th>\n",
       "      <th>Contact Number</th>\n",
       "      <th>City</th>\n",
       "      <th>Province</th>\n",
       "    </tr>\n",
       "  </thead>\n",
       "  <tbody>\n",
       "    <tr>\n",
       "      <th>0</th>\n",
       "      <td>Indus Hospital</td>\n",
       "      <td>Noman Chaudhry</td>\n",
       "      <td>58</td>\n",
       "      <td>Female</td>\n",
       "      <td>2023-05-22</td>\n",
       "      <td>2023-03-25</td>\n",
       "      <td>Malaria</td>\n",
       "      <td>24570.0</td>\n",
       "      <td>Yes</td>\n",
       "      <td>O+</td>\n",
       "      <td>151</td>\n",
       "      <td>117</td>\n",
       "      <td>37977648810</td>\n",
       "      <td>Peshawar</td>\n",
       "      <td>Khyber Pakhtunkhwa</td>\n",
       "    </tr>\n",
       "    <tr>\n",
       "      <th>1</th>\n",
       "      <td>Civil Hospital Karachi</td>\n",
       "      <td>Mahnoor Qureshi</td>\n",
       "      <td>96</td>\n",
       "      <td>Female</td>\n",
       "      <td>2023-01-18</td>\n",
       "      <td>2023-04-08</td>\n",
       "      <td>COVID-19</td>\n",
       "      <td>220466.0</td>\n",
       "      <td>No</td>\n",
       "      <td>O+</td>\n",
       "      <td>196</td>\n",
       "      <td>117</td>\n",
       "      <td>36007550511</td>\n",
       "      <td>Rawalpindi</td>\n",
       "      <td>Punjab</td>\n",
       "    </tr>\n",
       "    <tr>\n",
       "      <th>2</th>\n",
       "      <td>Shaikh Zayed Hospital</td>\n",
       "      <td>Hira Ansari</td>\n",
       "      <td>64</td>\n",
       "      <td>Male</td>\n",
       "      <td>2023-01-05</td>\n",
       "      <td>2023-03-25</td>\n",
       "      <td>Diabetes</td>\n",
       "      <td>280817.0</td>\n",
       "      <td>Yes</td>\n",
       "      <td>A-</td>\n",
       "      <td>185</td>\n",
       "      <td>111</td>\n",
       "      <td>31638461648</td>\n",
       "      <td>Karachi</td>\n",
       "      <td>Khyber Pakhtunkhwa</td>\n",
       "    </tr>\n",
       "    <tr>\n",
       "      <th>3</th>\n",
       "      <td>Indus Hospital</td>\n",
       "      <td>Daniyal Ansari</td>\n",
       "      <td>47</td>\n",
       "      <td>Female</td>\n",
       "      <td>2023-11-28</td>\n",
       "      <td>2023-09-27</td>\n",
       "      <td>Cancer</td>\n",
       "      <td>219838.0</td>\n",
       "      <td>Yes</td>\n",
       "      <td>B+</td>\n",
       "      <td>197</td>\n",
       "      <td>96</td>\n",
       "      <td>31044609168</td>\n",
       "      <td>Rawalpindi</td>\n",
       "      <td>Sindh</td>\n",
       "    </tr>\n",
       "    <tr>\n",
       "      <th>4</th>\n",
       "      <td>Civil Hospital Karachi</td>\n",
       "      <td>Ali Butt</td>\n",
       "      <td>80</td>\n",
       "      <td>Male</td>\n",
       "      <td>2023-07-06</td>\n",
       "      <td>2023-10-26</td>\n",
       "      <td>Cancer</td>\n",
       "      <td>318043.0</td>\n",
       "      <td>Yes</td>\n",
       "      <td>A+</td>\n",
       "      <td>174</td>\n",
       "      <td>112</td>\n",
       "      <td>32720530918</td>\n",
       "      <td>Karachi</td>\n",
       "      <td>Balochistan</td>\n",
       "    </tr>\n",
       "    <tr>\n",
       "      <th>...</th>\n",
       "      <td>...</td>\n",
       "      <td>...</td>\n",
       "      <td>...</td>\n",
       "      <td>...</td>\n",
       "      <td>...</td>\n",
       "      <td>...</td>\n",
       "      <td>...</td>\n",
       "      <td>...</td>\n",
       "      <td>...</td>\n",
       "      <td>...</td>\n",
       "      <td>...</td>\n",
       "      <td>...</td>\n",
       "      <td>...</td>\n",
       "      <td>...</td>\n",
       "      <td>...</td>\n",
       "    </tr>\n",
       "    <tr>\n",
       "      <th>1995</th>\n",
       "      <td>Civil Hospital Karachi</td>\n",
       "      <td>Sara Farooqi</td>\n",
       "      <td>96</td>\n",
       "      <td>Female</td>\n",
       "      <td>2023-12-16</td>\n",
       "      <td>2023-10-22</td>\n",
       "      <td>Diabetes</td>\n",
       "      <td>336872.0</td>\n",
       "      <td>No</td>\n",
       "      <td>B+</td>\n",
       "      <td>181</td>\n",
       "      <td>78</td>\n",
       "      <td>35202879767</td>\n",
       "      <td>Rawalpindi</td>\n",
       "      <td>Sindh</td>\n",
       "    </tr>\n",
       "    <tr>\n",
       "      <th>1996</th>\n",
       "      <td>Services Hospital</td>\n",
       "      <td>Usman Khan</td>\n",
       "      <td>28</td>\n",
       "      <td>Female</td>\n",
       "      <td>2023-05-07</td>\n",
       "      <td>2023-07-25</td>\n",
       "      <td>Diabetes</td>\n",
       "      <td>495301.0</td>\n",
       "      <td>Yes</td>\n",
       "      <td>O+</td>\n",
       "      <td>177</td>\n",
       "      <td>80</td>\n",
       "      <td>31581509478</td>\n",
       "      <td>Multan</td>\n",
       "      <td>Punjab</td>\n",
       "    </tr>\n",
       "    <tr>\n",
       "      <th>1997</th>\n",
       "      <td>Nishtar Hospital</td>\n",
       "      <td>Amina Qureshi</td>\n",
       "      <td>98</td>\n",
       "      <td>Female</td>\n",
       "      <td>2023-09-11</td>\n",
       "      <td>2023-06-03</td>\n",
       "      <td>COVID-19</td>\n",
       "      <td>136213.0</td>\n",
       "      <td>Yes</td>\n",
       "      <td>B+</td>\n",
       "      <td>163</td>\n",
       "      <td>88</td>\n",
       "      <td>37870570657</td>\n",
       "      <td>Rawalpindi</td>\n",
       "      <td>Punjab</td>\n",
       "    </tr>\n",
       "    <tr>\n",
       "      <th>1998</th>\n",
       "      <td>Pakistan Institute of Medical Sciences</td>\n",
       "      <td>Hassan Farooqi</td>\n",
       "      <td>60</td>\n",
       "      <td>Male</td>\n",
       "      <td>2023-12-27</td>\n",
       "      <td>2023-09-11</td>\n",
       "      <td>Tuberculosis</td>\n",
       "      <td>338865.0</td>\n",
       "      <td>Yes</td>\n",
       "      <td>O+</td>\n",
       "      <td>151</td>\n",
       "      <td>116</td>\n",
       "      <td>38390114480</td>\n",
       "      <td>Quetta</td>\n",
       "      <td>Khyber Pakhtunkhwa</td>\n",
       "    </tr>\n",
       "    <tr>\n",
       "      <th>1999</th>\n",
       "      <td>Aga Khan University Hospital</td>\n",
       "      <td>Daniyal Siddiqui</td>\n",
       "      <td>46</td>\n",
       "      <td>Female</td>\n",
       "      <td>2023-10-15</td>\n",
       "      <td>2023-06-19</td>\n",
       "      <td>COVID-19</td>\n",
       "      <td>135737.0</td>\n",
       "      <td>Yes</td>\n",
       "      <td>O-</td>\n",
       "      <td>200</td>\n",
       "      <td>86</td>\n",
       "      <td>37952117014</td>\n",
       "      <td>Quetta</td>\n",
       "      <td>Punjab</td>\n",
       "    </tr>\n",
       "  </tbody>\n",
       "</table>\n",
       "<p>2000 rows × 15 columns</p>\n",
       "</div>"
      ],
      "text/plain": [
       "                               Hospital Name      Patient Name  Patient's Age  \\\n",
       "0                             Indus Hospital    Noman Chaudhry             58   \n",
       "1                     Civil Hospital Karachi   Mahnoor Qureshi             96   \n",
       "2                      Shaikh Zayed Hospital       Hira Ansari             64   \n",
       "3                             Indus Hospital    Daniyal Ansari             47   \n",
       "4                     Civil Hospital Karachi          Ali Butt             80   \n",
       "...                                      ...               ...            ...   \n",
       "1995                  Civil Hospital Karachi      Sara Farooqi             96   \n",
       "1996                       Services Hospital        Usman Khan             28   \n",
       "1997                        Nishtar Hospital     Amina Qureshi             98   \n",
       "1998  Pakistan Institute of Medical Sciences    Hassan Farooqi             60   \n",
       "1999            Aga Khan University Hospital  Daniyal Siddiqui             46   \n",
       "\n",
       "      Gender Date of Admission Date of Discharge       Disease  \\\n",
       "0     Female        2023-05-22        2023-03-25       Malaria   \n",
       "1     Female        2023-01-18        2023-04-08      COVID-19   \n",
       "2       Male        2023-01-05        2023-03-25      Diabetes   \n",
       "3     Female        2023-11-28        2023-09-27        Cancer   \n",
       "4       Male        2023-07-06        2023-10-26        Cancer   \n",
       "...      ...               ...               ...           ...   \n",
       "1995  Female        2023-12-16        2023-10-22      Diabetes   \n",
       "1996  Female        2023-05-07        2023-07-25      Diabetes   \n",
       "1997  Female        2023-09-11        2023-06-03      COVID-19   \n",
       "1998    Male        2023-12-27        2023-09-11  Tuberculosis   \n",
       "1999  Female        2023-10-15        2023-06-19      COVID-19   \n",
       "\n",
       "      Treatment Cost Insurance Blood Group  Height (cm)  Weight (kg)  \\\n",
       "0            24570.0       Yes          O+          151          117   \n",
       "1           220466.0        No          O+          196          117   \n",
       "2           280817.0       Yes          A-          185          111   \n",
       "3           219838.0       Yes          B+          197           96   \n",
       "4           318043.0       Yes          A+          174          112   \n",
       "...              ...       ...         ...          ...          ...   \n",
       "1995        336872.0        No          B+          181           78   \n",
       "1996        495301.0       Yes          O+          177           80   \n",
       "1997        136213.0       Yes          B+          163           88   \n",
       "1998        338865.0       Yes          O+          151          116   \n",
       "1999        135737.0       Yes          O-          200           86   \n",
       "\n",
       "      Contact Number        City            Province  \n",
       "0        37977648810    Peshawar  Khyber Pakhtunkhwa  \n",
       "1        36007550511  Rawalpindi              Punjab  \n",
       "2        31638461648     Karachi  Khyber Pakhtunkhwa  \n",
       "3        31044609168  Rawalpindi               Sindh  \n",
       "4        32720530918     Karachi         Balochistan  \n",
       "...              ...         ...                 ...  \n",
       "1995     35202879767  Rawalpindi               Sindh  \n",
       "1996     31581509478      Multan              Punjab  \n",
       "1997     37870570657  Rawalpindi              Punjab  \n",
       "1998     38390114480      Quetta  Khyber Pakhtunkhwa  \n",
       "1999     37952117014      Quetta              Punjab  \n",
       "\n",
       "[2000 rows x 15 columns]"
      ]
     },
     "execution_count": 26,
     "metadata": {},
     "output_type": "execute_result"
    }
   ],
   "source": [
    "#Changing Column name\n",
    "df.rename(columns = {'Age': \"Patient's Age\"})"
   ]
  },
  {
   "cell_type": "code",
   "execution_count": 27,
   "metadata": {},
   "outputs": [
    {
     "data": {
      "text/plain": [
       "(array(['Female', 'Male'], dtype=object),\n",
       " array(['Malaria', 'COVID-19', 'Diabetes', 'Cancer', 'Hypertension',\n",
       "        'Tuberculosis'], dtype=object),\n",
       " array(['Peshawar', 'Rawalpindi', 'Karachi', 'Lahore', 'Multan',\n",
       "        'Faisalabad', 'Islamabad', 'Quetta'], dtype=object))"
      ]
     },
     "execution_count": 27,
     "metadata": {},
     "output_type": "execute_result"
    }
   ],
   "source": [
    "# Unique values in categorical columns\n",
    "df[\"Gender\"].unique(), df[\"Disease\"].unique(), df[\"City\"].unique()\n"
   ]
  },
  {
   "cell_type": "markdown",
   "metadata": {},
   "source": [
    "Data Visualization"
   ]
  },
  {
   "cell_type": "code",
   "execution_count": 42,
   "metadata": {},
   "outputs": [
    {
     "data": {
      "text/plain": [
       "<Axes: title={'center': 'Gender Distribution of Patients'}, xlabel='Gender'>"
      ]
     },
     "execution_count": 42,
     "metadata": {},
     "output_type": "execute_result"
    },
    {
     "data": {
      "image/png": "[encoded data removed]",
      "text/plain": [
       "<Figure size 600x400 with 1 Axes>"
      ]
     },
     "metadata": {},
     "output_type": "display_data"
    }
   ],
   "source": [
    "# Gender Distribution\n",
    "\n",
    "df[\"Gender\"].value_counts().plot(kind=\"bar\", color=[\"lightblue\", \"salmon\"], figsize=(6,4), title=\"Gender Distribution of Patients\")\n"
   ]
  },
  {
   "cell_type": "code",
   "execution_count": 48,
   "metadata": {},
   "outputs": [
    {
     "data": {
      "text/plain": [
       "<Axes: xlabel='Treatment Cost'>"
      ]
     },
     "execution_count": 48,
     "metadata": {},
     "output_type": "execute_result"
    },
    {
     "data": {
      "image/png": "[encoded data removed]",
      "text/plain": [
       "<Figure size 640x480 with 1 Axes>"
      ]
     },
     "metadata": {},
     "output_type": "display_data"
    }
   ],
   "source": [
    "# Boxplot of Treatment Cost\n",
    "sns.boxplot(x=df['Treatment Cost'])\n"
   ]
  },
  {
   "cell_type": "code",
   "execution_count": 49,
   "metadata": {},
   "outputs": [
    {
     "data": {
      "text/plain": [
       "<Axes: xlabel='Disease', ylabel='count'>"
      ]
     },
     "execution_count": 49,
     "metadata": {},
     "output_type": "execute_result"
    },
    {
     "data": {
      "image/png": "[encoded data removed]",
      "text/plain": [
       "<Figure size 640x480 with 1 Axes>"
      ]
     },
     "metadata": {},
     "output_type": "display_data"
    }
   ],
   "source": [
    "# Count plot of Diseases\n",
    "sns.countplot(x=df['Disease'])"
   ]
  },
  {
   "cell_type": "code",
   "execution_count": 50,
   "metadata": {},
   "outputs": [
    {
     "data": {
      "text/plain": [
       "<Axes: xlabel='Age', ylabel='Treatment Cost'>"
      ]
     },
     "execution_count": 50,
     "metadata": {},
     "output_type": "execute_result"
    },
    {
     "data": {
      "image/png": "[encoded data removed]",
      "text/plain": [
       "<Figure size 640x480 with 1 Axes>"
      ]
     },
     "metadata": {},
     "output_type": "display_data"
    }
   ],
   "source": [
    "## Scatter plot of Age vs. Treatment Cost\n",
    "sns.scatterplot(x=df['Age'], y=df['Treatment Cost'])"
   ]
  },
  {
   "cell_type": "code",
   "execution_count": 51,
   "metadata": {},
   "outputs": [
    {
     "data": {
      "text/plain": [
       "<Axes: xlabel='City'>"
      ]
     },
     "execution_count": 51,
     "metadata": {},
     "output_type": "execute_result"
    },
    {
     "data": {
      "image/png": "[encoded data removed]",
      "text/plain": [
       "<Figure size 640x480 with 1 Axes>"
      ]
     },
     "metadata": {},
     "output_type": "display_data"
    }
   ],
   "source": [
    "# Boxplot of treatment cost by disease\n",
    "df.groupby('City')['Treatment Cost'].mean().plot(kind='bar')\n"
   ]
  },
  {
   "cell_type": "code",
   "execution_count": 52,
   "metadata": {},
   "outputs": [
    {
     "data": {
      "text/plain": [
       "<Axes: title={'center': 'Patient Count by City'}, xlabel='City'>"
      ]
     },
     "execution_count": 52,
     "metadata": {},
     "output_type": "execute_result"
    },
    {
     "data": {
      "image/png": "[encoded data removed]",
      "text/plain": [
       "<Figure size 1000x500 with 1 Axes>"
      ]
     },
     "metadata": {},
     "output_type": "display_data"
    }
   ],
   "source": [
    "# Bar Graph of patient count per city\n",
    "df['City'].value_counts().plot(kind='bar', figsize=(10,5), color='teal', title=\"Patient Count by City\")\n"
   ]
  },
  {
   "cell_type": "code",
   "execution_count": 53,
   "metadata": {},
   "outputs": [
    {
     "data": {
      "text/html": [
       "<style type=\"text/css\">\n",
       "#T_bbe79_row0_col0, #T_bbe79_row1_col1, #T_bbe79_row2_col2, #T_bbe79_row3_col3, #T_bbe79_row4_col4 {\n",
       "  background-color: #b40426;\n",
       "  color: #f1f1f1;\n",
       "}\n",
       "#T_bbe79_row0_col1, #T_bbe79_row0_col2 {\n",
       "  background-color: #465ecf;\n",
       "  color: #f1f1f1;\n",
       "}\n",
       "#T_bbe79_row0_col3, #T_bbe79_row1_col2, #T_bbe79_row1_col4, #T_bbe79_row2_col3, #T_bbe79_row3_col0, #T_bbe79_row4_col1 {\n",
       "  background-color: #3b4cc0;\n",
       "  color: #f1f1f1;\n",
       "}\n",
       "#T_bbe79_row0_col4 {\n",
       "  background-color: #536edd;\n",
       "  color: #f1f1f1;\n",
       "}\n",
       "#T_bbe79_row1_col0, #T_bbe79_row4_col3 {\n",
       "  background-color: #3d50c3;\n",
       "  color: #f1f1f1;\n",
       "}\n",
       "#T_bbe79_row1_col3 {\n",
       "  background-color: #3c4ec2;\n",
       "  color: #f1f1f1;\n",
       "}\n",
       "#T_bbe79_row2_col0 {\n",
       "  background-color: #4055c8;\n",
       "  color: #f1f1f1;\n",
       "}\n",
       "#T_bbe79_row2_col1 {\n",
       "  background-color: #3e51c5;\n",
       "  color: #f1f1f1;\n",
       "}\n",
       "#T_bbe79_row2_col4 {\n",
       "  background-color: #485fd1;\n",
       "  color: #f1f1f1;\n",
       "}\n",
       "#T_bbe79_row3_col1, #T_bbe79_row4_col2 {\n",
       "  background-color: #445acc;\n",
       "  color: #f1f1f1;\n",
       "}\n",
       "#T_bbe79_row3_col2 {\n",
       "  background-color: #3f53c6;\n",
       "  color: #f1f1f1;\n",
       "}\n",
       "#T_bbe79_row3_col4 {\n",
       "  background-color: #455cce;\n",
       "  color: #f1f1f1;\n",
       "}\n",
       "#T_bbe79_row4_col0 {\n",
       "  background-color: #4961d2;\n",
       "  color: #f1f1f1;\n",
       "}\n",
       "</style>\n",
       "<table id=\"T_bbe79\">\n",
       "  <thead>\n",
       "    <tr>\n",
       "      <th class=\"blank level0\" >&nbsp;</th>\n",
       "      <th id=\"T_bbe79_level0_col0\" class=\"col_heading level0 col0\" >Age</th>\n",
       "      <th id=\"T_bbe79_level0_col1\" class=\"col_heading level0 col1\" >Treatment Cost</th>\n",
       "      <th id=\"T_bbe79_level0_col2\" class=\"col_heading level0 col2\" >Height (cm)</th>\n",
       "      <th id=\"T_bbe79_level0_col3\" class=\"col_heading level0 col3\" >Weight (kg)</th>\n",
       "      <th id=\"T_bbe79_level0_col4\" class=\"col_heading level0 col4\" >Contact Number</th>\n",
       "    </tr>\n",
       "  </thead>\n",
       "  <tbody>\n",
       "    <tr>\n",
       "      <th id=\"T_bbe79_level0_row0\" class=\"row_heading level0 row0\" >Age</th>\n",
       "      <td id=\"T_bbe79_row0_col0\" class=\"data row0 col0\" >1.000000</td>\n",
       "      <td id=\"T_bbe79_row0_col1\" class=\"data row0 col1\" >-0.009976</td>\n",
       "      <td id=\"T_bbe79_row0_col2\" class=\"data row0 col2\" >0.003305</td>\n",
       "      <td id=\"T_bbe79_row0_col3\" class=\"data row0 col3\" >-0.019905</td>\n",
       "      <td id=\"T_bbe79_row0_col4\" class=\"data row0 col4\" >0.031523</td>\n",
       "    </tr>\n",
       "    <tr>\n",
       "      <th id=\"T_bbe79_level0_row1\" class=\"row_heading level0 row1\" >Treatment Cost</th>\n",
       "      <td id=\"T_bbe79_row1_col0\" class=\"data row1 col0\" >-0.009976</td>\n",
       "      <td id=\"T_bbe79_row1_col1\" class=\"data row1 col1\" >1.000000</td>\n",
       "      <td id=\"T_bbe79_row1_col2\" class=\"data row1 col2\" >-0.040091</td>\n",
       "      <td id=\"T_bbe79_row1_col3\" class=\"data row1 col3\" >-0.016422</td>\n",
       "      <td id=\"T_bbe79_row1_col4\" class=\"data row1 col4\" >-0.053016</td>\n",
       "    </tr>\n",
       "    <tr>\n",
       "      <th id=\"T_bbe79_level0_row2\" class=\"row_heading level0 row2\" >Height (cm)</th>\n",
       "      <td id=\"T_bbe79_row2_col0\" class=\"data row2 col0\" >0.003305</td>\n",
       "      <td id=\"T_bbe79_row2_col1\" class=\"data row2 col1\" >-0.040091</td>\n",
       "      <td id=\"T_bbe79_row2_col2\" class=\"data row2 col2\" >1.000000</td>\n",
       "      <td id=\"T_bbe79_row2_col3\" class=\"data row2 col3\" >-0.023754</td>\n",
       "      <td id=\"T_bbe79_row2_col4\" class=\"data row2 col4\" >-0.005649</td>\n",
       "    </tr>\n",
       "    <tr>\n",
       "      <th id=\"T_bbe79_level0_row3\" class=\"row_heading level0 row3\" >Weight (kg)</th>\n",
       "      <td id=\"T_bbe79_row3_col0\" class=\"data row3 col0\" >-0.019905</td>\n",
       "      <td id=\"T_bbe79_row3_col1\" class=\"data row3 col1\" >-0.016422</td>\n",
       "      <td id=\"T_bbe79_row3_col2\" class=\"data row3 col2\" >-0.023754</td>\n",
       "      <td id=\"T_bbe79_row3_col3\" class=\"data row3 col3\" >1.000000</td>\n",
       "      <td id=\"T_bbe79_row3_col4\" class=\"data row3 col4\" >-0.014958</td>\n",
       "    </tr>\n",
       "    <tr>\n",
       "      <th id=\"T_bbe79_level0_row4\" class=\"row_heading level0 row4\" >Contact Number</th>\n",
       "      <td id=\"T_bbe79_row4_col0\" class=\"data row4 col0\" >0.031523</td>\n",
       "      <td id=\"T_bbe79_row4_col1\" class=\"data row4 col1\" >-0.053016</td>\n",
       "      <td id=\"T_bbe79_row4_col2\" class=\"data row4 col2\" >-0.005649</td>\n",
       "      <td id=\"T_bbe79_row4_col3\" class=\"data row4 col3\" >-0.014958</td>\n",
       "      <td id=\"T_bbe79_row4_col4\" class=\"data row4 col4\" >1.000000</td>\n",
       "    </tr>\n",
       "  </tbody>\n",
       "</table>\n"
      ],
      "text/plain": [
       "<pandas.io.formats.style.Styler at 0x2a85a28c690>"
      ]
     },
     "execution_count": 53,
     "metadata": {},
     "output_type": "execute_result"
    }
   ],
   "source": [
    "# Selecting only numerical columns\n",
    "# Correlation Matric\n",
    "df.corr(numeric_only=True).style.background_gradient(cmap=\"coolwarm\")\n"
   ]
  },
  {
   "cell_type": "code",
   "execution_count": 54,
   "metadata": {},
   "outputs": [
    {
     "data": {
      "text/plain": [
       "<Axes: title={'center': 'Treatment Cost'}, xlabel='Disease'>"
      ]
     },
     "execution_count": 54,
     "metadata": {},
     "output_type": "execute_result"
    },
    {
     "data": {
      "image/png": "[encoded data removed]",
      "text/plain": [
       "<Figure size 1000x600 with 1 Axes>"
      ]
     },
     "metadata": {},
     "output_type": "display_data"
    }
   ],
   "source": [
    "# Boxplot of treatment cost by disease\n",
    "\n",
    "df.boxplot(column=\"Treatment Cost\", by=\"Disease\", figsize=(10,6), rot=45)\n"
   ]
  },
  {
   "cell_type": "code",
   "execution_count": 55,
   "metadata": {},
   "outputs": [
    {
     "data": {
      "text/plain": [
       "<Axes: title={'center': 'Distribution of Treatment Costs'}, ylabel='Frequency'>"
      ]
     },
     "execution_count": 55,
     "metadata": {},
     "output_type": "execute_result"
    },
    {
     "data": {
      "image/png": "[encoded data removed]",
      "text/plain": [
       "<Figure size 800x500 with 1 Axes>"
      ]
     },
     "metadata": {},
     "output_type": "display_data"
    }
   ],
   "source": [
    "# Histogram of Treatment Costs\n",
    "\n",
    "df[\"Treatment Cost\"].plot(kind=\"hist\", bins=30, edgecolor=\"black\", title=\"Distribution of Treatment Costs\", figsize=(8,5))\n",
    "\n"
   ]
  },
  {
   "cell_type": "code",
   "execution_count": 56,
   "metadata": {},
   "outputs": [
    {
     "data": {
      "text/plain": [
       "<Axes: title={'center': 'Most Common Diseases'}, ylabel='Disease'>"
      ]
     },
     "execution_count": 56,
     "metadata": {},
     "output_type": "execute_result"
    },
    {
     "data": {
      "image/png": "[encoded data removed]",
      "text/plain": [
       "<Figure size 800x500 with 1 Axes>"
      ]
     },
     "metadata": {},
     "output_type": "display_data"
    }
   ],
   "source": [
    "# Disease Treated\n",
    "\n",
    "df[\"Disease\"].value_counts().plot(kind=\"barh\", color=\"purple\", figsize=(8,5), title=\"Most Common Diseases\")\n"
   ]
  },
  {
   "cell_type": "code",
   "execution_count": null,
   "metadata": {},
   "outputs": [],
   "source": []
  }
 ],
 "metadata": {
  "kernelspec": {
   "display_name": "Python 3",
   "language": "python",
   "name": "python3"
  },
  "language_info": {
   "codemirror_mode": {
    "name": "ipython",
    "version": 3
   },
   "file_extension": ".py",
   "mimetype": "text/x-python",
   "name": "python",
   "nbconvert_exporter": "python",
   "pygments_lexer": "ipython3",
   "version": "3.11.5"
  }
 },
 "nbformat": 4,
 "nbformat_minor": 2
}
